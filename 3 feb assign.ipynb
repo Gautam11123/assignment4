{
 "cells": [
  {
   "cell_type": "code",
   "execution_count": 16,
   "id": "46f43012-f3e6-477b-bd28-d8245fe67809",
   "metadata": {},
   "outputs": [
    {
     "name": "stdin",
     "output_type": "stream",
     "text": [
      "enter the start range 1\n",
      "enter the end range 26\n"
     ]
    },
    {
     "name": "stdout",
     "output_type": "stream",
     "text": [
      "1\n",
      "3\n",
      "5\n",
      "7\n",
      "9\n",
      "11\n",
      "13\n",
      "15\n",
      "17\n",
      "19\n",
      "21\n",
      "23\n",
      "25\n"
     ]
    }
   ],
   "source": [
    "#Q1. Which keyword is used to create a function? Create a function to return a list of odd numbers in the\n",
    "#range of 1 to 25.\n",
    "\n",
    "#Ans. The def keyword is used to create, (or define) a function.\n",
    "     \n",
    "start=int(input(\"enter the start range\"))\n",
    "end=int(input(\"enter the end range\"))\n",
    "for num in range(start,end+1):\n",
    "            if num%2!=0:\n",
    "                print(num)"
   ]
  },
  {
   "cell_type": "code",
   "execution_count": null,
   "id": "6bd6466e-5065-4b81-bb33-6a63f3df43db",
   "metadata": {},
   "outputs": [],
   "source": [
    "2)Why *args and **kwargs is used in some functions? Create a function each for *args and **kwargs\n",
    "to demonstrate their use.\n",
    "\n",
    "Ans.The*args passes variable number of non-keyworded arguments and on which operation of the tuple can be performed.\n",
    "The **kwargs passes variable number of keyword arguments dictionary to function on which operation of a dictionary can be performed.\n",
    "The *args and **kwargs make the function flexible."
   ]
  },
  {
   "cell_type": "code",
   "execution_count": 17,
   "id": "025dba37-f7f4-4c8d-baf0-4140cd8213e9",
   "metadata": {},
   "outputs": [
    {
     "name": "stdout",
     "output_type": "stream",
     "text": [
      "('Hello', 'Welcome', 'to', 'pwskills')\n",
      "('Hello', 'Welcome', 'to', 'pwskills')\n",
      "('Hello', 'Welcome', 'to', 'pwskills')\n",
      "('Hello', 'Welcome', 'to', 'pwskills')\n"
     ]
    }
   ],
   "source": [
    "#example of *args\n",
    "def myFun(*args):\n",
    "\tfor arg in args:\n",
    "\t\tprint(args)\n",
    "\n",
    "\n",
    "myFun('Hello', 'Welcome', 'to', 'pwskills')\n",
    "\n"
   ]
  },
  {
   "cell_type": "code",
   "execution_count": 18,
   "id": "9a09996b-f05d-419a-92c3-f86ba891a3f7",
   "metadata": {},
   "outputs": [
    {
     "name": "stdout",
     "output_type": "stream",
     "text": [
      "first == data\n",
      "mid == science\n",
      "last == masters\n"
     ]
    }
   ],
   "source": [
    "#example of **kwargs\n",
    "def myFun(**kwargs):\n",
    "\tfor key, value in kwargs.items():\n",
    "\t\tprint(\"%s == %s\" % (key, value))\n",
    "\n",
    "\n",
    "# Driver code\n",
    "myFun(first='data', mid='science', last='masters')\n"
   ]
  },
  {
   "cell_type": "code",
   "execution_count": null,
   "id": "8e26a3b0-7914-46ad-a06d-c48f08d37f4e",
   "metadata": {},
   "outputs": [],
   "source": [
    "#3)Q3. What is an iterator in python? Name the method used to initialise the iterator object and the method\n",
    "used for iteration. Use these methods to print the first five elements of the given list [2, 4, 6, 8, 10, 12, 14,\n",
    "16, 18, 20].\n",
    "\n",
    "Ans. An iterator is an object that contains a countable number of values. The method used to initialised the iterator object and the method used for \n",
    "iteraton are  __iter__() and __next__()."
   ]
  },
  {
   "cell_type": "code",
   "execution_count": 19,
   "id": "6db317fb-12ae-461b-8a46-61d1c66682ac",
   "metadata": {},
   "outputs": [],
   "source": [
    "s=\"gautam\""
   ]
  },
  {
   "cell_type": "code",
   "execution_count": 20,
   "id": "be4b3c27-51d9-40e9-a700-eaed3368c790",
   "metadata": {},
   "outputs": [
    {
     "name": "stdout",
     "output_type": "stream",
     "text": [
      "g\n",
      "a\n",
      "u\n",
      "t\n",
      "a\n",
      "m\n"
     ]
    }
   ],
   "source": [
    "for i in s:\n",
    "    print(i)"
   ]
  },
  {
   "cell_type": "code",
   "execution_count": 21,
   "id": "7be86464-904e-44f8-b494-3494411972e4",
   "metadata": {},
   "outputs": [
    {
     "data": {
      "text/plain": [
       "'gautam'"
      ]
     },
     "execution_count": 21,
     "metadata": {},
     "output_type": "execute_result"
    }
   ],
   "source": [
    "s"
   ]
  },
  {
   "cell_type": "code",
   "execution_count": 43,
   "id": "787c5478-7cca-46cd-b7f7-6a3497fe70b3",
   "metadata": {},
   "outputs": [],
   "source": [
    "s1=iter(s)"
   ]
  },
  {
   "cell_type": "code",
   "execution_count": 44,
   "id": "d06a3aa0-1dec-4a60-afe1-993f36fad36a",
   "metadata": {},
   "outputs": [
    {
     "data": {
      "text/plain": [
       "str_iterator"
      ]
     },
     "execution_count": 44,
     "metadata": {},
     "output_type": "execute_result"
    }
   ],
   "source": [
    "type(s1)"
   ]
  },
  {
   "cell_type": "code",
   "execution_count": 45,
   "id": "a0576fe8-ed64-453f-b068-3bd1aaafd2a6",
   "metadata": {},
   "outputs": [
    {
     "data": {
      "text/plain": [
       "'g'"
      ]
     },
     "execution_count": 45,
     "metadata": {},
     "output_type": "execute_result"
    }
   ],
   "source": [
    "next(s1)"
   ]
  },
  {
   "cell_type": "code",
   "execution_count": 46,
   "id": "dc977e4b-587c-4c42-af01-54842f48f717",
   "metadata": {},
   "outputs": [
    {
     "data": {
      "text/plain": [
       "'a'"
      ]
     },
     "execution_count": 46,
     "metadata": {},
     "output_type": "execute_result"
    }
   ],
   "source": [
    "next(s1)"
   ]
  },
  {
   "cell_type": "code",
   "execution_count": 47,
   "id": "972d0c09-dcc1-4e0f-be77-459edf0cec0b",
   "metadata": {},
   "outputs": [
    {
     "data": {
      "text/plain": [
       "'u'"
      ]
     },
     "execution_count": 47,
     "metadata": {},
     "output_type": "execute_result"
    }
   ],
   "source": [
    "next(s1)"
   ]
  },
  {
   "cell_type": "code",
   "execution_count": 48,
   "id": "74dad667-f355-4cb8-bf9a-0df3ffed378f",
   "metadata": {},
   "outputs": [
    {
     "data": {
      "text/plain": [
       "'t'"
      ]
     },
     "execution_count": 48,
     "metadata": {},
     "output_type": "execute_result"
    }
   ],
   "source": [
    "next(s1)"
   ]
  },
  {
   "cell_type": "code",
   "execution_count": 49,
   "id": "3fbad793-53b5-4ef7-9bf0-37ac3abf83f1",
   "metadata": {},
   "outputs": [
    {
     "data": {
      "text/plain": [
       "'a'"
      ]
     },
     "execution_count": 49,
     "metadata": {},
     "output_type": "execute_result"
    }
   ],
   "source": [
    "next(s1)"
   ]
  },
  {
   "cell_type": "code",
   "execution_count": 50,
   "id": "01beee78-7a70-4bb5-bc00-bd7c788e7683",
   "metadata": {},
   "outputs": [
    {
     "data": {
      "text/plain": [
       "'m'"
      ]
     },
     "execution_count": 50,
     "metadata": {},
     "output_type": "execute_result"
    }
   ],
   "source": [
    "next(s1)"
   ]
  },
  {
   "cell_type": "code",
   "execution_count": null,
   "id": "51d82ec0-4e9d-4398-960c-fa44de8aab4c",
   "metadata": {},
   "outputs": [],
   "source": [
    "#4)What is a generator function in python? Why yield keyword is used? Give an example of a generator\n",
    "#function.\n",
    "\n",
    "Ans. Python Generator functions allow you to declare a function that behaves likes an iterator, allowing\n",
    "     programmers to make an iterator in a fast, easy, and clean way.The yield keyword is used to create a generator function."
   ]
  },
  {
   "cell_type": "code",
   "execution_count": 53,
   "id": "c486a47a-dc47-4b61-8b2a-8e8b5bef2674",
   "metadata": {},
   "outputs": [],
   "source": [
    "#example\n",
    "def count_test(n):\n",
    "    count = 1\n",
    "    while count<=n:\n",
    "        yield count\n",
    "        count=count+1"
   ]
  },
  {
   "cell_type": "code",
   "execution_count": 54,
   "id": "f129d55a-416c-4a94-9dbe-124d2004d227",
   "metadata": {},
   "outputs": [],
   "source": [
    "c=count_test(5)"
   ]
  },
  {
   "cell_type": "code",
   "execution_count": 55,
   "id": "33a1d189-244c-42a0-b3b7-5e13d1a8e0e4",
   "metadata": {},
   "outputs": [
    {
     "name": "stdout",
     "output_type": "stream",
     "text": [
      "1\n",
      "2\n",
      "3\n",
      "4\n",
      "5\n"
     ]
    }
   ],
   "source": [
    "for i in c:\n",
    "    print(i)"
   ]
  },
  {
   "cell_type": "code",
   "execution_count": 83,
   "id": "3d858409-f60e-4f8a-8fe6-7dd85fe34003",
   "metadata": {},
   "outputs": [
    {
     "name": "stdin",
     "output_type": "stream",
     "text": [
      "enter number 1000\n"
     ]
    },
    {
     "name": "stdout",
     "output_type": "stream",
     "text": [
      "2 1000 is not a prime\n"
     ]
    }
   ],
   "source": [
    "#Q5. Create a generator function for prime numbers less than 1000. Use the next() method to print the\n",
    "#first 20 prime numbers.\n",
    "\n",
    "n=int(input(\"enter number\"))\n",
    "\n",
    "for i in range(2,n):\n",
    "    if n%j==0:\n",
    "        print(i,end=' ')\n",
    "        print(n,\"is not a prime\")\n",
    "        break\n",
    "else:\n",
    "    print(n,\"is prime\")"
   ]
  },
  {
   "cell_type": "code",
   "execution_count": 85,
   "id": "9702bf59-a7cb-4d94-b0a7-d443321223dd",
   "metadata": {},
   "outputs": [
    {
     "data": {
      "text/plain": [
       "int"
      ]
     },
     "execution_count": 85,
     "metadata": {},
     "output_type": "execute_result"
    }
   ],
   "source": [
    "type(n)"
   ]
  },
  {
   "cell_type": "code",
   "execution_count": 94,
   "id": "03ef8a5d-b353-4140-b5b8-cec4b1719e3c",
   "metadata": {},
   "outputs": [],
   "source": [
    "def isPrime(n):\n",
    "    \n",
    "    if(n==1 or n==0):\n",
    "        \n",
    "        return False\n",
    "    for i in range(2,n):\n",
    "        if(n%i==0):\n",
    "            return False\n",
    "        \n",
    "    return True\n",
    "  "
   ]
  },
  {
   "cell_type": "code",
   "execution_count": 96,
   "id": "e9fb79b0-b830-4663-8c20-4bf71a902a74",
   "metadata": {},
   "outputs": [
    {
     "name": "stdout",
     "output_type": "stream",
     "text": [
      "2 3 5 7 11 13 17 19 23 29 31 37 41 43 47 53 59 61 67 71 73 79 83 89 97 101 103 107 109 113 127 131 137 139 149 151 157 163 167 173 179 181 191 193 197 199 211 223 227 229 233 239 241 251 257 263 269 271 277 281 283 293 307 311 313 317 331 337 347 349 353 359 367 373 379 383 389 397 401 409 419 421 431 433 439 443 449 457 461 463 467 479 487 491 499 503 509 521 523 541 547 557 563 569 571 577 587 593 599 601 607 613 617 619 631 641 643 647 653 659 661 673 677 683 691 701 709 719 727 733 739 743 751 757 761 769 773 787 797 809 811 821 823 827 829 839 853 857 859 863 877 881 883 887 907 911 919 929 937 941 947 953 967 971 977 983 991 997 "
     ]
    }
   ],
   "source": [
    "N = 1000;\n",
    "for i in range(1,N+1):\n",
    " \n",
    "  if(isPrime(i)):\n",
    "    print(i,end=\" \")"
   ]
  },
  {
   "cell_type": "code",
   "execution_count": 100,
   "id": "1ec39038-47a5-40d8-8063-eb38708c3a98",
   "metadata": {},
   "outputs": [
    {
     "name": "stdin",
     "output_type": "stream",
     "text": [
      " 10\n"
     ]
    },
    {
     "name": "stdout",
     "output_type": "stream",
     "text": [
      "Fibonacci series is:  0 1 0 1 1 2 3 5 8 13 "
     ]
    }
   ],
   "source": [
    "#6)Write a python program to print the first 10 Fibonacci numbers using a while loop.\n",
    "\n",
    "n = int(input())\n",
    "a = 0\n",
    "b = 1\n",
    "sum = 0\n",
    "count = 1\n",
    "print(\"Fibonacci series is: \", end = \" \")\n",
    "while(count <= n):\n",
    "    count += 1\n",
    "    print(a, end=\" \")\n",
    "    a = b\n",
    "    b = sum\n",
    "    sum = a + b\n",
    "   "
   ]
  },
  {
   "cell_type": "code",
   "execution_count": 102,
   "id": "200a9176-a997-4b17-8a01-461e091ca3de",
   "metadata": {},
   "outputs": [
    {
     "data": {
      "text/plain": [
       "['p', 'w', 's', 'k', 'i', 'l', 'l', 's']"
      ]
     },
     "execution_count": 102,
     "metadata": {},
     "output_type": "execute_result"
    }
   ],
   "source": [
    "#Q7. Write a List Comprehension to iterate through the given string: ‘pwskills’.\n",
    "#Expected output: ['p', 'w', 's', 'k', 'i', 'l', 'l', 's']\n",
    "\n",
    "s=\"pwskills\"\n",
    "list(map(lambda s : s.lower() , s))"
   ]
  },
  {
   "cell_type": "code",
   "execution_count": 104,
   "id": "97081941-6ab5-4abc-b336-aced7f048c31",
   "metadata": {},
   "outputs": [
    {
     "name": "stdin",
     "output_type": "stream",
     "text": [
      "Enter a number: 113\n"
     ]
    },
    {
     "name": "stdout",
     "output_type": "stream",
     "text": [
      "Not a palindrome!\n"
     ]
    }
   ],
   "source": [
    "#Q8. Write a python program to check whether a given number is Palindrome or not using a while loop.\n",
    "\n",
    "num=int(input(\"Enter a number:\"))\n",
    "temp=num\n",
    "rev=0\n",
    "while(num>0):\n",
    "    dig=num%10\n",
    "    rev=rev*10+dig\n",
    "    num=num//10\n",
    "if(temp==rev):\n",
    "    print(\"The number is palindrome!\")\n",
    "else:\n",
    "    print(\"Not a palindrome!\")"
   ]
  },
  {
   "cell_type": "code",
   "execution_count": 107,
   "id": "ce3b55b9-3cbe-495a-9b3f-6f95784bf886",
   "metadata": {},
   "outputs": [
    {
     "name": "stdout",
     "output_type": "stream",
     "text": [
      "1 3 5 7 9 11 13 15 17 19 21 23 25 27 29 31 33 35 37 39 41 43 45 47 49 51 53 55 57 59 61 63 65 67 69 71 73 75 77 79 81 83 85 87 89 91 93 95 97 99 "
     ]
    }
   ],
   "source": [
    "#Q9. Write a code to print odd numbers from 1 to 100 using list comprehension.\n",
    "\n",
    "list1 = [1, 3, 5, 7, 9, 11, 13, 15, 17, 19, 21, 23, 25, 27, 29, 31, 33, 35, 37, 39, 41, 43, 45, 47, 49, 51, 53, 55, 57, 59, 61, 63, 65, 67, 69, 71, 73, 75, 77, 79, 81, 83, 85, 87, 89, 91, 93, 95, 97, 99]\n",
    "\n",
    "for num in list1:\n",
    "    if num % 2 != 0:\n",
    "        print(num, end=\" \")"
   ]
  },
  {
   "cell_type": "code",
   "execution_count": 106,
   "id": "ae27f417-1a1c-4415-80cd-f1995e09782f",
   "metadata": {},
   "outputs": [
    {
     "name": "stdout",
     "output_type": "stream",
     "text": [
      "[1, 3, 5, 7, 9, 11, 13, 15, 17, 19, 21, 23, 25, 27, 29, 31, 33, 35, 37, 39, 41, 43, 45, 47, 49, 51, 53, 55, 57, 59, 61, 63, 65, 67, 69, 71, 73, 75, 77, 79, 81, 83, 85, 87, 89, 91, 93, 95, 97, 99]\n"
     ]
    }
   ],
   "source": [
    "odd_list = [element for element in range(1, 101) if element % 2 == 1 ]\n",
    "print(odd_list)"
   ]
  },
  {
   "cell_type": "code",
   "execution_count": null,
   "id": "90a65a13-5f92-479e-97f7-c3fcab72ae73",
   "metadata": {},
   "outputs": [],
   "source": []
  }
 ],
 "metadata": {
  "kernelspec": {
   "display_name": "Python 3 (ipykernel)",
   "language": "python",
   "name": "python3"
  },
  "language_info": {
   "codemirror_mode": {
    "name": "ipython",
    "version": 3
   },
   "file_extension": ".py",
   "mimetype": "text/x-python",
   "name": "python",
   "nbconvert_exporter": "python",
   "pygments_lexer": "ipython3",
   "version": "3.10.8"
  }
 },
 "nbformat": 4,
 "nbformat_minor": 5
}
